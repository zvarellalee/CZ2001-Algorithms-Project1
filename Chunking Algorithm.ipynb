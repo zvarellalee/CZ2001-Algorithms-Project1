{
 "cells": [
  {
   "cell_type": "code",
   "execution_count": 140,
   "metadata": {},
   "outputs": [],
   "source": [
    "from Bio import SeqIO\n",
    "import pandas as pd\n",
    "import time"
   ]
  },
  {
   "cell_type": "code",
   "execution_count": 141,
   "metadata": {
    "tags": []
   },
   "outputs": [
    {
     "output_type": "stream",
     "name": "stdout",
     "text": "Seq('GAGAGAATTAACTACCTTAACCTGAACCTAAACCTACCGATAACCTAACTCTAA...gtt', SingleLetterAlphabet())\nLength of sequence is 27754200\nSeq('CCCCCCCccaggggggggggggaaaaaagaaaaaggaattgctctttgacctcg...ggt', SingleLetterAlphabet())\nLength of sequence is 16089512\nSeq('gctctcatttttttagtaggttgaccaataaagagctttttaagcacaacttta...aat', SingleLetterAlphabet())\nLength of sequence is 3988\nSeq('CCCCAGGAGAAGAtccataatttgtaatataacaaataaatatttaataattaa...agg', SingleLetterAlphabet())\nLength of sequence is 13619445\nSeq('AGAGCTGAGAGGTTTTACGAGGTATAGTCTTGTCGGCATAACGTTTATTGaact...tag', SingleLetterAlphabet())\nLength of sequence is 13404451\nSeq('GGTGCGAAGTTTggttggataacgtctctctcTGAACCCGTTGTTcatgcagaa...agt', SingleLetterAlphabet())\nLength of sequence is 13896941\nSeq('TTCAAATTagtatttccaattttaatacatattattatcaccatttttctatta...CTA', SingleLetterAlphabet())\nLength of sequence is 24043\nSeq('taatataaatattttagtcaTTTACATATTACAGAAGActgataagaaaattat...ggt', SingleLetterAlphabet())\nLength of sequence is 17789102\nSeq('AGAAAAAAGacacaaattattacaaagaCGCATTTAGAAACCGAAATATGGATC...ata', SingleLetterAlphabet())\nLength of sequence is 23881\nSeq('GGGAAGAAGATTTGTCTGGCCGATTTGCATGCCGGCCCATCATCATCCAGATCC...agg', SingleLetterAlphabet())\nLength of sequence is 14198698\nSeq('tgcacagaagtaacagaaaattattgaatttttcggaagaaatcgtcgctcgga...att', SingleLetterAlphabet())\nLength of sequence is 28854\nSeq('AAGTTAATCGGTGGATGCTCGGATAAAAGTTCATTGACGTTCAAAGGAAGCGAT...TAC', SingleLetterAlphabet())\nLength of sequence is 22163\nSeq('ttaaatctgaaaattataacatatatatatatatatatatatatatatatatat...TTA', SingleLetterAlphabet())\nLength of sequence is 12667\nSeq('CAGTggagaaaagggaggaaagaTGGTGGCTCTTCTATTGTTTCggtgcaataa...tag', SingleLetterAlphabet())\nLength of sequence is 12717210\nSeq('TCCGGCAACAAAAACATGTGTTTTGTCCcggagacaaaaaaaaaaaaaaaaaag...tca', SingleLetterAlphabet())\nLength of sequence is 40528\nSeq('CTTGTTGTTGCTTGGAGAGAAGATCATCTAAGGatgagtcgcatgcatttattt...aat', SingleLetterAlphabet())\nLength of sequence is 17189\nSeq('TAAACGCGTTCGTATATGTTCTGTAATCGACGAACAAGCACTGATTCTATCTTc...TCT', SingleLetterAlphabet())\nLength of sequence is 11842\nSeq('aattataataaatttaaataaataataaatttaaaaatataaaattaaagatta...TTT', SingleLetterAlphabet())\nLength of sequence is 12354651\nSeq('atatagatatatatagatatataatgctagaattttatagatagaaGTAACAGC...AAC', SingleLetterAlphabet())\nLength of sequence is 41529\nSeq('TTTTAAGTCAACTTTCGTTAGTTTcggttgaaattaaatattgttataattatt...taa', SingleLetterAlphabet())\nLength of sequence is 41327\nSeq('atataaaatataatcgcaAAGATATTTACAAgtgatattacaatataagtGACA...TGG', SingleLetterAlphabet())\nLength of sequence is 36874\nSeq('ttcaatttgaagttcaaatataactaaaatttgaacttcacttgaactcaaata...aaa', SingleLetterAlphabet())\nLength of sequence is 34862\nSeq('ttattttttacattattttttatacattaacaTTCACATTATTTGTGCAGCATG...TTT', SingleLetterAlphabet())\nLength of sequence is 31353\nSeq('atatatatatatatattatatatataagtcatttttcgaaattattccgaaaat...ATA', SingleLetterAlphabet())\nLength of sequence is 26859\nSeq('TTTTGATATTGCAAAGTAATATTTCTGaaagttaagaaaattttaaataataat...AAT', SingleLetterAlphabet())\nLength of sequence is 25295\nSeq('ataatattagattttgatTACTTCCagcttcattaattatatttttactaagcA...TTG', SingleLetterAlphabet())\nLength of sequence is 21070\nSeq('atataaaatataatcgcaAAGATATTTACAAgtgatattacaatataagtgaca...GTA', SingleLetterAlphabet())\nLength of sequence is 18505\nSeq('taaaaaaagaaaattcatgaaCCTAAGCACATGTGAACTTATTATGAGCACAAt...GAT', SingleLetterAlphabet())\nLength of sequence is 17223\nSeq('taaaaaaaagaaaatcagtggtttgaaacaagaaatatttgaaaataagagcTT...CCA', SingleLetterAlphabet())\nLength of sequence is 17199\nSeq('CGACTTCATCGTTTTTTAATCCTTCGATGTCGGCTTTTTCTATCATTGCGAAGC...CCA', SingleLetterAlphabet())\nLength of sequence is 15069\nSeq('taaaaaaagaaaattcatgaaCCTAAGCACATGTGAACTTATTATGAGCACAAt...aaa', SingleLetterAlphabet())\nLength of sequence is 14774\nSeq('TTTTTTATATTTCCGAGAGTTTTagattgtgaatatttttaaacaaaataacaa...GTG', SingleLetterAlphabet())\nLength of sequence is 11259\nSeq('CGTTACAACTTCACActtgtaatttttaagttttgaatttacttttactttaac...CCG', SingleLetterAlphabet())\nLength of sequence is 11145\nSeq('CCGTCGTTCTTAAAATCGAACGTTTCCGAGTCGGGTGTCAAAAATCGGAGTTGG...CGG', SingleLetterAlphabet())\nLength of sequence is 6719\nSeq('atcaataaaattaatagaaaattaaaagaatacttataaataatacaataattt...TTA', SingleLetterAlphabet())\nLength of sequence is 4248\nSeq('AAATATGCATAAACGGTACATATACAGTAAAAACACTATCATGTTTCACtacaa...TGC', SingleLetterAlphabet())\nLength of sequence is 12360052\nSeq('TATCTTTGCATACGCtgtgtatttatattcgtaaccgactttattatcaatata...TTT', SingleLetterAlphabet())\nLength of sequence is 95318\nSeq('aaatttatcaaattattacattaaaggaaaaaaattatatccagcaaaaatcga...aat', SingleLetterAlphabet())\nLength of sequence is 67913\nSeq('AAGAGAGAGATgtcattatttaatgataattaatctaataatgttacatttctt...GTG', SingleLetterAlphabet())\nLength of sequence is 40431\nSeq('CCAAAAAGAGGAGAGATCAACCGTGGTAATGTGATAACGAGAGGGCCTGGTTCG...AAT', SingleLetterAlphabet())\nLength of sequence is 28022\nSeq('TAAAAACAGTGAAATCTACAAAAagatctagaaaaaaaaaatcattatatcaaa...ATT', SingleLetterAlphabet())\nLength of sequence is 23055\nSeq('AAACTATAAAATTAGcaatgattgataaatttcgtaataataagaGTAAAATAA...AAT', SingleLetterAlphabet())\nLength of sequence is 22320\nSeq('TTTCATTTTTATAGTatatcctctttttttattattttgtatatagaaccatgt...AGA', SingleLetterAlphabet())\nLength of sequence is 20023\nSeq('ttttgttatatttatataaattttgttgtgtctgttacatatataaatgtgtGA...GTA', SingleLetterAlphabet())\nLength of sequence is 16352600\nSeq('AGAGATATTCTCCATATTCCAAAGTGTTAGAATCTTAGAATATCAGCCATTTGA...taa', SingleLetterAlphabet())\nLength of sequence is 35182\nSeq('attcaaaaatttaattgttgtgggacgataaaattctttagaattttgtttaat...gag', SingleLetterAlphabet())\nLength of sequence is 24609\nSeq('cctaacctaacctaacctaacctaacctaacctaacctaacctaacctaaccta...TCG', SingleLetterAlphabet())\nLength of sequence is 15613\nSeq('CATGGTAACCaggcctgacctaacccagcctggacctaacccagcctgacctaa...ACA', SingleLetterAlphabet())\nLength of sequence is 13259\nSeq('aatccattttataaatatatatataaaatatatatatttatcatcccCTTCTTT...taa', SingleLetterAlphabet())\nLength of sequence is 3624\nSeq('aaaaagagagagataaaataagaggaaaatacgatttccgcagctcgttgcaag...CTG', SingleLetterAlphabet())\nLength of sequence is 11514234\nSeq('ACTCTGATGCATGAAATACGTTCTTTGGAAAAGTAATGGttcaaaatcgatttc...CAT', SingleLetterAlphabet())\nLength of sequence is 18903\nSeq('AAAGAAGAGAGATTcggatgtattttaattttctttagttttctttatttgttt...tag', SingleLetterAlphabet())\nLength of sequence is 11279722\nSeq('gtttacaattttaatcaaaatcaatttttcatggcagaattttacataatttgg...gtt', SingleLetterAlphabet())\nLength of sequence is 10670842\nSeq('tgttcaatataattttttagataatccaataatttatattattttgtttaaagt...CGA', SingleLetterAlphabet())\nLength of sequence is 35146\nSeq('TTTATttgacaattataataattaatattaattttacttttgattCTTTATGAT...aat', SingleLetterAlphabet())\nLength of sequence is 24061\nSeq('TTGGATATTTGATCAGAGATAAGTCCTATATGTTGAATATCGtctttgataatt...AAA', SingleLetterAlphabet())\nLength of sequence is 23155\nSeq('aaaaagaaatgaataaataactaaataaataaaaggattcatataaatatgttg...TGC', SingleLetterAlphabet())\nLength of sequence is 21574\nSeq('TTTTCATCATTTATGATCGAATAAccacaaattaataatttaattaataattaa...AGT', SingleLetterAlphabet())\nLength of sequence is 19344\nSeq('attgaaaattatatctggGATTatcttatatgtataattttttttttttttttt...CCA', SingleLetterAlphabet())\nLength of sequence is 16896\nSeq('aagaatagaatagaagagtagaaaagaatagaatagaaaccAGCCAAAATTAAG...AGT', SingleLetterAlphabet())\nLength of sequence is 16072\nSeq('aaaaaagtaatgaaaaaagtaactctcgcgaaatatttcacggatgaatgaaaa...TTA', SingleLetterAlphabet())\nLength of sequence is 14199\nSeq('taataaaaacaattttaattccaaattttaatgacTGTCTTCatcaaagagaaa...GCA', SingleLetterAlphabet())\nLength of sequence is 13856\nSeq('GAAATAGTGATTTGGACAaacgaattttatcaaattttaagataGAGGAGATac...ttt', SingleLetterAlphabet())\nLength of sequence is 12635\nSeq('GGTAATTTTGtaagattttgtattttagaaataattttttgatattgcaACTGA...AGT', SingleLetterAlphabet())\nLength of sequence is 12630\nSeq('ATCATGTGGGCAcacttttaaatttgatcgatCAAAAGTAGATTTTCCATCGCG...aca', SingleLetterAlphabet())\nLength of sequence is 11160\nSeq('atattaataatgttatacaatattagatattattgtaaaatagtaTGTTTTAGA...AAT', SingleLetterAlphabet())\nLength of sequence is 9716\nSeq('TTGTTGTTTTGAGTTCACTAATTCTGTTGTATAGTCTGTTTCAGGTATCTTCCT...ATA', SingleLetterAlphabet())\nLength of sequence is 8753\nSeq('aattataattaaatttaaaattaataaatttaaattataaattaaaaaataatg...tag', SingleLetterAlphabet())\nLength of sequence is 9534514\nSeq('ACCGGTATAAgtgcgtaataataataattttggtgcaaatttatcgtattgcgg...aaa', SingleLetterAlphabet())\nLength of sequence is 73645\nSeq('TCCGATAagacattaataaattttaagtattttaaatttgcgtTAGATAGAGGT...TTT', SingleLetterAlphabet())\nLength of sequence is 60267\nSeq('ACAAGAGACGATTGGTAAAGGGTGAAAGTATTGATAGATATCCACtagtttaag...gag', SingleLetterAlphabet())\nLength of sequence is 44578\nSeq('ATCGCAATCCATATCGGATGTCTCGATGACGCGCTTCGCCGCTTTCGACATCTT...aaa', SingleLetterAlphabet())\nLength of sequence is 35241\nSeq('agtgaaaaatataactcgATCGAATCAATCATAAACCAAGAAAGTGTACCAAGA...TCA', SingleLetterAlphabet())\nLength of sequence is 24031\nSeq('taaattatcaataatctcttgatactttaatttttcagattattctttttttat...ttt', SingleLetterAlphabet())\nLength of sequence is 23749\nSeq('ATCGAATTTGCATTACATAAAGTTTTGCTGTCTATGTGATAGAATTTCTGAGGA...tta', SingleLetterAlphabet())\nLength of sequence is 21570\nSeq('TCATTTaatgattatgaattaatcatttaattatttaattacgattattatttt...TAT', SingleLetterAlphabet())\nLength of sequence is 21229\nSeq('ctatgtaatataaataataatgatctataaataactattatttatattattgaa...TCA', SingleLetterAlphabet())\nLength of sequence is 20706\nSeq('CGGCCTCAAGGCTTCTAATCATTCGCTTTACCAGATGAGATTCGTGAGAATGAT...GAT', SingleLetterAlphabet())\nLength of sequence is 18311\nSeq('ACGTTATCGCGCAAAGTCCCCCGGTCAGGTCGGTTCGCCCGTTCCATATATCCC...TAG', SingleLetterAlphabet())\nLength of sequence is 10530\nSeq('CTGGAAATGATTAAATGGATTTGTGTTATCATGTcctgatgatatttttatatt...TAA', SingleLetterAlphabet())\nLength of sequence is 9153\nSeq('CTATATTTCCGTGGCTCTCAGGTCTAGAACCGACGAAGACGAAATCCCCAATAG...TCA', SingleLetterAlphabet())\nLength of sequence is 5948\nSeq('gattagaaaaaaatcatataagaaacaaaaacaataatacaggattacatatac...AAA', SingleLetterAlphabet())\nLength of sequence is 5288\nSeq('TGTATAAGCGTTCGAGTTCCCTGGAAACCTCTAGCAGGGAGATAGGGTTTGGAA...TTT', SingleLetterAlphabet())\nLength of sequence is 4502\nSeq('aaaaatttttagagaatgaaagaattatcCACCCGAAACGTTAATAACTGTGAT...GTA', SingleLetterAlphabet())\nLength of sequence is 3152\nSeq('GGCGggtcgaatttaaaaattcgaccTCACGCAAGCGCTtccttttgattatta...CTA', SingleLetterAlphabet())\nLength of sequence is 3072\nSeq('ATATACGCTATTGGAGCTGGAATTACCGCGGCTGCTGGCACCAGACTTGCCCTC...TCC', SingleLetterAlphabet())\nLength of sequence is 2987\nSeq('atttctattttcattgctactttctttttttttatcattaattcttaatgaata...taa', SingleLetterAlphabet())\nLength of sequence is 7238532\nSeq('GGGAGAGAGAtctacataacttatcgaaatcaatttctcgttgcagaatttgag...AAT', SingleLetterAlphabet())\nLength of sequence is 486754\nSeq('ATGATCATTGGCGATTTGATAGGAAATTCTCCTAGGAAAGACATGGATGGTTGG...TCG', SingleLetterAlphabet())\nLength of sequence is 311923\nSeq('AAGTATtgtagtaaaataaattatataatagttttaattttagtaatagctgat...TTT', SingleLetterAlphabet())\nLength of sequence is 135562\nSeq('TAAagcaaaatgatatatatataatattataacgcaataaattaatcttaaaca...TGT', SingleLetterAlphabet())\nLength of sequence is 120686\nSeq('gtttatttaaatttttgacaataatttttgtaaatattttgtatatgtaatata...AAT', SingleLetterAlphabet())\nLength of sequence is 108711\nSeq('ATATTTTTAGAACCCCTTCTCTTCGCGATGATCTAATACTAGTAACGAATTCTT...aaa', SingleLetterAlphabet())\nLength of sequence is 92711\nSeq('ATCGAATTTGCATTACATAAAGTTTTGCTGTCTATGTGATAGAATTTCTGAGGA...TTT', SingleLetterAlphabet())\nLength of sequence is 68035\nSeq('TCTGATTCAATTTCGAtcccaattcgccgtaactcaacgatcagcgatttcgtg...tat', SingleLetterAlphabet())\nLength of sequence is 66194\nSeq('TAGATTGTCGCGTCACCTATATTCGAGTAACGCTTATTTGACTACTTATGAAGA...CTG', SingleLetterAlphabet())\nLength of sequence is 56971\nSeq('atttattatttatttttgattttaatctctttttcaatttttggtaatataata...gtt', SingleLetterAlphabet())\nLength of sequence is 56225\nSeq('tctttttattgattttcataattttaaaacacatttacaaaatcatcattttaa...tgt', SingleLetterAlphabet())\nLength of sequence is 52709\nSeq('aaacaaattttaaataaaatgcaattcaaatggaatataatcatattcttTTCA...GTT', SingleLetterAlphabet())\nLength of sequence is 52744\nSeq('AGTGAGAGCGTAGAATTATAGCCCTtccgaaaccattcaacttttattgaaaca...ttt', SingleLetterAlphabet())\nLength of sequence is 49670\nSeq('ACTAGAATAATGTTATCGTTGAATCTGTCGGCTAAATTCTCAAAACAGTCATCT...ttg', SingleLetterAlphabet())\nLength of sequence is 49506\nSeq('atatattgcatttatatattgcacataaatttataattatggattatataatat...att', SingleLetterAlphabet())\nLength of sequence is 36396\nSeq('AAAAACCTATCCTCatctaatagataaaatattaaaaaaaaaaaaatgttacta...CAA', SingleLetterAlphabet())\nLength of sequence is 35193\nSeq('GATTAGAATATGGCATTAGAACTGTAAGATAGcttgatcaaaaaatatatcaat...TAC', SingleLetterAlphabet())\nLength of sequence is 35070\nSeq('TAaagtattatttgaaaaatcaattattgaatattatcaaataaatttatatag...ATT', SingleLetterAlphabet())\nLength of sequence is 34588\nSeq('aaaaaagtgaaaatttttaataaaataaataaatataatttttttattaagtat...ata', SingleLetterAlphabet())\nLength of sequence is 33219\nSeq('GATTGCCCCTTGCACACATCTTTCATCTGTTTCTGCATGACAAGCGGTACATAC...aat', SingleLetterAlphabet())\nLength of sequence is 30850\nSeq('TTATTCGttagttttttctttgaaataaaattattatcaaaaacaaaatttatg...ACA', SingleLetterAlphabet())\nLength of sequence is 30345\nSeq('AACCACACAAGGAGAGAGGAATTAAGgaactaaattaatattatcaaaattaaa...ACC', SingleLetterAlphabet())\nLength of sequence is 30149\nSeq('taaatacgatttccgcagctcgttgcaagcgggaaagattgctctttgacctcg...ata', SingleLetterAlphabet())\nLength of sequence is 29749\nSeq('aaattcttataaaattcctTAAATAAAACACGAATCAGGAAACAGAAATGCTCT...TGT', SingleLetterAlphabet())\nLength of sequence is 29493\nSeq('ctatgtaatataaataataatctataaataactattatttatattattgaataa...CAG', SingleLetterAlphabet())\nLength of sequence is 28697\nSeq('cattgttttgaattttttgaattttaaaaatcttctttgaGATAGTATACAAAG...ATG', SingleLetterAlphabet())\nLength of sequence is 25587\nSeq('GAGAGAGATACTATATGttgagatttatattattaatgttctaaaattctatta...ata', SingleLetterAlphabet())\nLength of sequence is 25299\nSeq('AAAAGAGATTCGaggaatattttgtaaataaaccccaacaattttggaaaaaga...AAG', SingleLetterAlphabet())\nLength of sequence is 25083\nSeq('TTGACCTcggtgtttggttggtttctggacgacaagcgttcatacgctatggtc...TTC', SingleLetterAlphabet())\nLength of sequence is 24917\nSeq('TACAAGCCGTGtgtttaataatgcactatttaaaGATgtcttaaaatttcattt...TGT', SingleLetterAlphabet())\nLength of sequence is 24436\nSeq('TTTGAAAATTGAGAATAGAGCATTTTTGTTTCCTGATTCgtgttttatttaaga...aat', SingleLetterAlphabet())\nLength of sequence is 22456\nSeq('tcatacttattattattatattagatataattaatatttgtattatttggaAGA...TGT', SingleLetterAlphabet())\nLength of sequence is 22137\nSeq('aacggctgtatctccgaagataagagagataatacgatttccgcagctcgttgc...TGC', SingleLetterAlphabet())\nLength of sequence is 21830\nSeq('TTTGCGATAAATTGCTATTGtaaaatactaatttaaataatcatttcattccga...aaa', SingleLetterAlphabet())\nLength of sequence is 21705\nSeq('AAAACCATATCGTTCAAcatattcttcaaattataaGATTCGTTTGATACATAG...AGA', SingleLetterAlphabet())\nLength of sequence is 21390\nSeq('CGAATAGACACTTTTGAtcgattctaaatatatataaaataaacacaaaaattg...tat', SingleLetterAlphabet())\nLength of sequence is 21197\nSeq('ACAGAGGATtgcaaataattctttaattatattataaattatattatattatat...atg', SingleLetterAlphabet())\nLength of sequence is 20251\nSeq('ATCGTGAGATCGTCGCTAGATCATCGTGGAATCGTCGGTAGATCACCGTGCGAA...tat', SingleLetterAlphabet())\nLength of sequence is 19254\nSeq('ATAGGTATGACATAAGTACTTCAACAAAGGTTTATGCAATGTACAGTCATAAGA...ggt', SingleLetterAlphabet())\nLength of sequence is 18419\nSeq('ggtcaacctactaaaaaactgagagcgtcataatatagccctttcgaaaccaat...TAT', SingleLetterAlphabet())\nLength of sequence is 18185\nSeq('TGAtgcaattatgataatttatgcaattgcactaataaatatattataataata...taa', SingleLetterAlphabet())\nLength of sequence is 18108\nSeq('AAAAAGcgcgagaaatataatttgaacatTTCAATCGTCTAAATTGTTTAGCTA...aTT', SingleLetterAlphabet())\nLength of sequence is 16039\nSeq('ttaaaaatgaattttaaatgaatttttcaaaactattaattcttatttaattaa...AGT', SingleLetterAlphabet())\nLength of sequence is 15874\nSeq('TCTCTTTTCTctgctttctttctctctctctctctctctctcctcttcatataa...TGC', SingleLetterAlphabet())\nLength of sequence is 15501\nSeq('TATCTATAAAATTCTagcattatatatctatatatatctatatattatgtttta...tga', SingleLetterAlphabet())\nLength of sequence is 15245\nSeq('TTTATCATCCCCTTCTTTCAATTCTCTGTTTGTTTTGTTAcgcattttctcttt...CTC', SingleLetterAlphabet())\nLength of sequence is 14627\nSeq('GAGAGGAGAATTATATGTATCAAATTTTCCTTGATTATATTGCCTCATACctct...CTG', SingleLetterAlphabet())\nLength of sequence is 14470\nSeq('GAGAGATTATTAAGTTTATACATTGAAAGTTCATATTTTACTTCCTTCTGAAGT...taa', SingleLetterAlphabet())\nLength of sequence is 14429\nSeq('ATAAGAATCTTTCAGGATATTTGActgggaataaaaattatgcaacATAATTTT...att', SingleLetterAlphabet())\nLength of sequence is 13874\nSeq('agtgaaaaatataactcgATCGAATCAATCATAAACCAAGAAAGTGTACCAAGA...GAT', SingleLetterAlphabet())\nLength of sequence is 13557\nSeq('GAAATGACTCGCAATAAATAAACGTAATCTATGTATCATATGATTTTAacttaa...TTG', SingleLetterAlphabet())\nLength of sequence is 13184\nSeq('TTATCAAttcccttcctccttttctttatcaattctcctcctcttttcttttat...cga', SingleLetterAlphabet())\nLength of sequence is 12682\nSeq('AAAAAGAGAGatcacttctttggacgaccatagcgtatgaaccgcttgtcgtcc...TGA', SingleLetterAlphabet())\nLength of sequence is 12676\nSeq('ATATCCAACATTCATAGTACTGTCAGAAAAAGATTTACTCatgtataagatttt...tta', SingleLetterAlphabet())\nLength of sequence is 12477\nSeq('aaaaaaaaaataagagagagattaagaatttaattcttaatgaatttttttttc...TAG', SingleLetterAlphabet())\nLength of sequence is 12356\nSeq('agtgaaaaatataactcgATCGAATCAATCATAAACCAAGAAAGTGTACCAAGA...GAT', SingleLetterAlphabet())\nLength of sequence is 12212\nSeq('tgaaatattgattcatttgtattcatcagaattttggataattttaattaaatg...ACT', SingleLetterAlphabet())\nLength of sequence is 12075\nSeq('tctattttttcttttcattcttatatattaaaggtatactcattttgaaatttt...CTC', SingleLetterAlphabet())\nLength of sequence is 11738\nSeq('TTGGAGGAATAGACTGATTTGTTTATCGTTATTGTTTCGCGAGGGAGATGGATT...ATA', SingleLetterAlphabet())\nLength of sequence is 11215\nSeq('gcaagcgggaaagattgctctttgacctcgtgtttggttggtttctggacgaca...GAT', SingleLetterAlphabet())\nLength of sequence is 10554\nSeq('aatataataataataatcaaattcaacaatttttcattgtaaCTTCtccatctt...TTT', SingleLetterAlphabet())\nLength of sequence is 9876\nSeq('tttccaatttttaacttagagtcaattattttattttgcatttaatctttctta...GGT', SingleLetterAlphabet())\nLength of sequence is 9803\nSeq('AAAGTACCATCTCGAAATGTGTATCTGCATCATCCGTAGTTACATTatcgaaat...acg', SingleLetterAlphabet())\nLength of sequence is 9724\nSeq('tttattattttctattaatctatttttttttatctattaaaggTATGTTCattt...att', SingleLetterAlphabet())\nLength of sequence is 9462\nSeq('atttttgtatgaaaaaaaaaagtctgaaaaaattcatatatcatatatttcaat...TAG', SingleLetterAlphabet())\nLength of sequence is 9171\nSeq('ttagtaaaaaataattaacctttaaatttaaataataaaaaaataatcctgaaa...AAA', SingleLetterAlphabet())\nLength of sequence is 9093\nSeq('GTACAAacaattgtgaattttataatatgaatctgtaaaaatgttgaagaaaaa...acg', SingleLetterAlphabet())\nLength of sequence is 8299\nSeq('tagaatctttaaaatagtgcattattaaaacggctgtatctccgaagataagag...aag', SingleLetterAlphabet())\nLength of sequence is 8261\nSeq('TATTTTTTAAACACGTTTTTTtggttaaatttgaaaaaattatatttgttttta...GTA', SingleLetterAlphabet())\nLength of sequence is 8085\nSeq('tccgaagataagagagataaatacgatttccgcagctcgttgcaagcgggaaag...cgt', SingleLetterAlphabet())\nLength of sequence is 8075\nSeq('ATTttagaaaatctttaaaatagtgcattattaaaacggctgtatctccgaaga...GAA', SingleLetterAlphabet())\nLength of sequence is 7938\nSeq('aatattatattgattaacattggaatgtaaagaaaaacaatttcctaattgcaa...ggt', SingleLetterAlphabet())\nLength of sequence is 7794\nSeq('ATTAGGCCATTGTCGTAACCTTCGATTGGTCACGACTGGTAAGTATCGTCTGTC...GGT', SingleLetterAlphabet())\nLength of sequence is 7505\nSeq('ATCGAACgaaaagcataaaaaaaatcgaaaaattaattaattttgttgtcacaa...agt', SingleLetterAlphabet())\nLength of sequence is 7322\nSeq('GAgagatttagataaaattagataagtttttaatttatttattatctatgttta...TCT', SingleLetterAlphabet())\nLength of sequence is 7158\nSeq('AGgatgatatatttcaattatcattcTTATGTTTCCACATGTGTTCGTGATGTC...CTC', SingleLetterAlphabet())\nLength of sequence is 7118\nSeq('GCAGAGTCTGATAAATTAAAcatcagaaattattataacatgattttttatttt...AAT', SingleLetterAlphabet())\nLength of sequence is 7093\nSeq('tctttaaaatagtgcattattaaaacggatgtatctccgaagaaatattatatt...GAA', SingleLetterAlphabet())\nLength of sequence is 6759\nSeq('ATCGAGATCCACATtcaactataaattaaaaaataaataagaaaaatagatcAA...ata', SingleLetterAlphabet())\nLength of sequence is 6019\nSeq('AGGAAAAGAAACTAACAAGGATTTCCTTAGTAGCGGCGAGCGAACAGGAATGAG...CGG', SingleLetterAlphabet())\nLength of sequence is 5439\nSeq('tctccgaagataagagagataaatacgatttcgcagctcgttgcaagcggaaag...gaa', SingleLetterAlphabet())\nLength of sequence is 5147\nSeq('TGCAAGCGGgaaaagattgctctttgacctcgtgtttgttggtttctggacgac...agt', SingleLetterAlphabet())\nLength of sequence is 5036\nSeq('tggtcgtccaaagaagtggaaattttagaatctttaaaatagtgcatatattaa...gca', SingleLetterAlphabet())\nLength of sequence is 5006\nSeq('gcaagcgggaaagattgctctttgacctcgtgtttggttggtttctggacgaca...gaa', SingleLetterAlphabet())\nLength of sequence is 4954\nSeq('tgtatctccgaagataagagagataaatacgatttccgcagctcgttgcaagcg...gct', SingleLetterAlphabet())\nLength of sequence is 4407\nSeq('AAATTTCTTGCTTCGTTTCATACGtttaaagatgataaaatagaatagcTTTAA...ATT', SingleLetterAlphabet())\nLength of sequence is 3840\nSeq('atcgagtttttggccaaaaatttttcttcgatcgccgaaatttcgacgttaata...AAA', SingleLetterAlphabet())\nLength of sequence is 3691\nSeq('CCTTATTGTTCCAGACATATTTACaacacaattttcaaatagcaAAGCTTGAAA...gag', SingleLetterAlphabet())\nLength of sequence is 2376\nSeq('taagagcatttttcgtgacgaaaatcaacaattttgatacaaattgagttttca...ttc', SingleLetterAlphabet())\nLength of sequence is 2302\nSeq('ATTTATATAGTTTAAAAAAAACATTATATTTTCAATATAAAAATAATTAAATTT...ATT', SingleLetterAlphabet())\nLength of sequence is 16343\n"
    }
   ],
   "source": [
    "records = []\n",
    "for seq_record in SeqIO.parse(\"bee.fna\", \"fasta\"):\n",
    "    print(repr(seq_record.seq))\n",
    "    print(\"Length of sequence is\", len(seq_record))\n",
    "    records.append(str(seq_record.seq))\n",
    "    \n",
    "stringSequence = \"\".join(records)\n",
    "\n",
    "stringSequence = stringSequence[0:50000]    \n",
    "seqSeries = pd.Series(list(stringSequence))"
   ]
  },
  {
   "cell_type": "code",
   "execution_count": 142,
   "metadata": {
    "tags": []
   },
   "outputs": [
    {
     "output_type": "stream",
     "name": "stdout",
     "text": "Length of pattern is 7\n"
    }
   ],
   "source": [
    "searchedPattern = \"CCTACAA\" #CCTACAA\n",
    "searchedSeries = pd.Series([x for x in searchedPattern])\n",
    "print(\"Length of pattern is\", len(searchedSeries))"
   ]
  },
  {
   "cell_type": "code",
   "execution_count": 143,
   "metadata": {},
   "outputs": [],
   "source": [
    "def buildMap(sequence, chunk):\n",
    "    #expect m/c time complexity; m - sequence length, c - chunk size\n",
    "    m = len(sequence)\n",
    "    ptr = 0\n",
    "    Map = {}\n",
    "    while ptr < m :\n",
    "        string = \"\".join(sequence[ptr:(ptr + chunk)].to_numpy())\n",
    "        if string in Map:\n",
    "            Map[string].append(ptr)\n",
    "        else:\n",
    "            Map[string]=[ptr]\n",
    "        ptr += chunk\n",
    "    return Map\n"
   ]
  },
  {
   "cell_type": "code",
   "execution_count": 144,
   "metadata": {},
   "outputs": [],
   "source": [
    "def buildCombination(pattern, chunk):\n",
    "    #expect n-(c-1) time complexity; n - pattern length, c - chunk size\n",
    "    m = len(pattern)\n",
    "    ptr = 0\n",
    "    Map = {}\n",
    "    while ptr + chunk <= m :\n",
    "        string = \"\".join(pattern[ptr:(ptr + chunk)].to_numpy())\n",
    "        if string in Map:\n",
    "            Map[string].append(ptr)\n",
    "        else:\n",
    "            Map[string]=[ptr]\n",
    "        ptr += 1\n",
    "    return Map"
   ]
  },
  {
   "cell_type": "code",
   "execution_count": 145,
   "metadata": {},
   "outputs": [],
   "source": [
    "def checkPattern(sequence, pattern, sequenceLoc, patternLoc, chunk):\n",
    "    # expect n - c time complexity \n",
    "    sequenceLength = len(sequence)\n",
    "    #check front of chunk\n",
    "    for x in range(0,patternLoc):\n",
    "        sequenceIndex = sequenceLoc + (x - patternLoc) + sequence.index[0]\n",
    "        OutofBound = ( False if 0 > sequenceIndex or sequenceIndex > sequenceLength else True)\n",
    "        if (OutofBound and pattern[x] != sequence[sequenceIndex]) : return False\n",
    "    #check back of chunk\n",
    "    for x in range(patternLoc + chunk,len(pattern)):\n",
    "        sequenceIndex = sequenceLoc + (x - patternLoc) + sequence.index[0]\n",
    "        OutofBound = ( False if 0 > sequenceIndex or sequenceIndex > sequenceLength else True)\n",
    "        if (OutofBound and pattern[x] != sequence[sequenceIndex]) : return False\n",
    "    return True"
   ]
  },
  {
   "cell_type": "code",
   "execution_count": 146,
   "metadata": {},
   "outputs": [],
   "source": [
    "def chunkingAlgo(sequence, pattern):\n",
    "    start_time = time.time()\n",
    "        #chunk const has to be less then half of the length of sequence to ensure pattern will definitely hit in the chucking of sequence.\n",
    "    chunk = int(len(pattern) / 2)\n",
    "    sequenceSet = buildMap(sequence,chunk) \n",
    "    patternSet = buildCombination(pattern,chunk)\n",
    "\n",
    "    print(\"--- Pre-Processing %s seconds ---\" % (time.time() - start_time))\n",
    "\n",
    "\n",
    "    start_time = time.time()  \n",
    "    \n",
    "    indexlist = list()  \n",
    "    for keyPattern, valuePattern in patternSet.items():\n",
    "        if keyPattern in sequenceSet:\n",
    "            for sequenceElement in sequenceSet[keyPattern]:\n",
    "                for patternElement in valuePattern:\n",
    "                    if checkPattern(sequence,pattern,sequenceElement,patternElement,chunk):\n",
    "                        indexlist.append(sequenceElement - patternElement + sequence.index[0]) \n",
    "\n",
    "    print(\"--- Processing %s seconds ---\" % (time.time() - start_time))\n",
    "\n",
    "    return set(indexlist)"
   ]
  },
  {
   "cell_type": "code",
   "execution_count": 147,
   "metadata": {
    "tags": []
   },
   "outputs": [
    {
     "output_type": "stream",
     "name": "stdout",
     "text": "0        G\n1        A\n2        G\n3        A\n4        G\n        ..\n49995    t\n49996    t\n49997    t\n49998    c\n49999    t\nLength: 50000, dtype: object 0    C\n1    C\n2    T\n3    A\n4    C\n5    A\n6    A\ndtype: object\n--- Pre-Processing 1.0986928939819336 seconds ---\n--- Processing 0.01772022247314453 seconds ---\n{261, 510}\n"
    }
   ],
   "source": [
    "print(seqSeries, searchedSeries)\n",
    "print(chunkingAlgo(seqSeries, searchedSeries))"
   ]
  },
  {
   "cell_type": "code",
   "execution_count": null,
   "metadata": {},
   "outputs": [],
   "source": []
  }
 ],
 "metadata": {
  "kernelspec": {
   "display_name": "Python 3",
   "language": "python",
   "name": "python3"
  },
  "language_info": {
   "codemirror_mode": {
    "name": "ipython",
    "version": 3
   },
   "file_extension": ".py",
   "mimetype": "text/x-python",
   "name": "python",
   "nbconvert_exporter": "python",
   "pygments_lexer": "ipython3",
   "version": "3.7.6-final"
  }
 },
 "nbformat": 4,
 "nbformat_minor": 2
}