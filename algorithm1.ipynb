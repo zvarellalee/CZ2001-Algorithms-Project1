{
 "metadata": {
  "language_info": {
   "codemirror_mode": {
    "name": "ipython",
    "version": 3
   },
   "file_extension": ".py",
   "mimetype": "text/x-python",
   "name": "python",
   "nbconvert_exporter": "python",
   "pygments_lexer": "ipython3",
   "version": "3.7.6-final"
  },
  "orig_nbformat": 2,
  "kernelspec": {
   "name": "python_defaultSpec_1600095889406",
   "display_name": "Python 3.7.6 64-bit ('base': conda)"
  }
 },
 "nbformat": 4,
 "nbformat_minor": 2,
 "cells": [
  {
   "cell_type": "code",
   "execution_count": 111,
   "metadata": {
    "tags": []
   },
   "outputs": [
    {
     "output_type": "stream",
     "name": "stdout",
     "text": "Seq('NNNNNNNNNNNNNNNNNNNNNNNNNNNNNNNNNNNNNNNNNNNNNNNNNNNNNN...NNN', SingleLetterAlphabet())\nLength of sequence is 120883175\n"
    }
   ],
   "source": [
    "from Bio import SeqIO\n",
    "import pandas as pd\n",
    "import time\n",
    "\n",
    "df = pd.DataFrame()\n",
    "\n",
    "for seq_record in SeqIO.parse(\"sequence.fasta\", \"fasta\"):\n",
    "    print(repr(seq_record.seq))\n",
    "    print(\"Length of sequence is\", len(seq_record))\n",
    "    seqSeries = pd.Series(list(str(seq_record.seq)))\n"
   ]
  },
  {
   "cell_type": "code",
   "execution_count": 112,
   "metadata": {
    "tags": []
   },
   "outputs": [
    {
     "output_type": "stream",
     "name": "stdout",
     "text": "Length of pattern is 7\n"
    }
   ],
   "source": [
    "searchedPattern = \"CTCAGAA\" \n",
    "searchedSeries = pd.Series([x for x in searchedPattern])\n",
    "print(\"Length of pattern is\", len(searchedSeries))"
   ]
  },
  {
   "cell_type": "code",
   "execution_count": 113,
   "metadata": {},
   "outputs": [
    {
     "output_type": "execute_result",
     "data": {
      "text/plain": "10000000    C\n10000001    T\n10000002    C\n10000003    T\n10000004    T\n           ..\n10049995    A\n10049996    A\n10049997    T\n10049998    T\n10049999    T\nLength: 50000, dtype: object"
     },
     "metadata": {},
     "execution_count": 113
    }
   ],
   "source": [
    "seqSeries = seqSeries[10000000:10050000]\n",
    "seqSeries"
   ]
  },
  {
   "cell_type": "code",
   "execution_count": 114,
   "metadata": {
    "tags": []
   },
   "outputs": [
    {
     "output_type": "stream",
     "name": "stdout",
     "text": "{10045603, 10031430, 10030605, 10007151, 10001235, 10035415, 10047831}\n--- 1.0524308681488037 seconds ---\n"
    }
   ],
   "source": [
    "def nativePatternSearch(sequence, pattern):\n",
    "    #Simple linear Pattern Searching\n",
    "    indexList = list() # list for storing matched pattern starting index \n",
    "    patternLen = len(pattern)\n",
    "    for keyParent, valueParent in sequence.items(): # iter over every char in sequence (split key/value)\n",
    "        for keyChild, valueChild in pattern.items(): # iter over every char in searched pattern (split key/value)\n",
    "            try:\n",
    "                # check if following individual chars matches all chars in searched pattern break internal for loop if a single char does not match. \n",
    "                # if current index char and following char fulfill searched pattern append to indexlist\n",
    "                if sequence[keyParent + keyChild] != valueChild: break \n",
    "                elif (patternLen == (keyChild + 1)): indexList.append(keyParent) \n",
    "            except: break\n",
    "    return set(indexList)\n",
    "\n",
    "start_time = time.time()\n",
    "print(nativePatternSearch(seqSeries, searchedSeries))\n",
    "print(\"--- %s seconds ---\" % (time.time() - start_time))"
   ]
  },
  {
   "cell_type": "code",
   "execution_count": 115,
   "metadata": {
    "tags": []
   },
   "outputs": [
    {
     "output_type": "stream",
     "name": "stdout",
     "text": "--- Pre-Processing 4.887580871582031e-05 seconds ---\n--- Processing 0.44123196601867676 seconds ---\n{10031430, 10030605, 10007151, 10001235, 10035415, 10047831}\n"
    }
   ],
   "source": [
    "def badBoyerMoorePatternSearch(sequence,pattern):\n",
    "    start_time = time.time()\n",
    "\n",
    "    patternLen = len(pattern)\n",
    "    sequenceLen = len(sequence)\n",
    "\n",
    "    preprocessingDic = dict()\n",
    "    for key, value in pattern.items():\n",
    "        preprocessingDic[value] = key \n",
    "    for key, value in preprocessingDic.items():\n",
    "        if(patternLen - value - 1 != 0): preprocessingDic[key] = patternLen - value - 1\n",
    "\n",
    "    print(\"--- Pre-Processing %s seconds ---\" % (time.time() - start_time))\n",
    "\n",
    "    start_time = time.time()\n",
    "    \n",
    "    indexlist = list()    \n",
    "    keyParent = sequence.index[0] + (patternLen - 1)  # set KeyParent as the index value of first backward searchable index \n",
    "    \n",
    "    while keyParent < sequence.index[0] + sequenceLen  :  # loop all char elements from frist backward searchable index\n",
    "        valueParent = sequence[keyParent] #set valueParent value of the squence element in question\n",
    "        \n",
    "        keyChild = patternLen - 1 # set KeyChild as the last index\n",
    "        while keyChild >= 0 : #check backward \n",
    "            backward = patternLen - 1 - keyChild \n",
    "            # if sequence element in question is not same as element as in pattern \n",
    "            # shift forward to align common char in pattern (number of shift in preprocessDic)\n",
    "            # break useless checking\n",
    "            if sequence[keyParent - backward] != pattern[keyChild] : \n",
    "                keyParent += preprocessingDic.get(valueParent,patternLen)\n",
    "                break\n",
    "            keyChild -= 1 # decrement if char matches\n",
    "        if keyChild < 0: \n",
    "            indexlist.append(keyParent -(patternLen - 1)) #append index of first char of matched pattern\n",
    "            keyParent += 1\n",
    "\n",
    "    print(\"--- Processing %s seconds ---\" % (time.time() - start_time))\n",
    "\n",
    "    return set(indexlist)\n",
    "\n",
    "print(badBoyerMoorePatternSearch(seqSeries, searchedSeries))"
   ]
  },
  {
   "cell_type": "code",
   "execution_count": 116,
   "metadata": {
    "tags": []
   },
   "outputs": [],
   "source": [
    "def buildMap(sequence, chunk):\n",
    "    #expect m/c time complexity; m - sequence length, c - chunk size\n",
    "    m = len(sequence)\n",
    "    ptr = 0\n",
    "    Map = {}\n",
    "    while ptr < m :\n",
    "        string = \"\".join(sequence[ptr:(ptr + chunk)].to_numpy())\n",
    "        if string in Map:\n",
    "            Map[string].append(ptr)\n",
    "        else:\n",
    "            Map[string]=[ptr]\n",
    "        ptr += chunk\n",
    "    return Map\n"
   ]
  },
  {
   "cell_type": "code",
   "execution_count": 117,
   "metadata": {},
   "outputs": [],
   "source": [
    "def buildCombination(pattern, chunk):\n",
    "    #expect n-(c-1) time complexity; n - pattern length, c - chunk size\n",
    "    m = len(pattern)\n",
    "    ptr = 0\n",
    "    Map = {}\n",
    "    while ptr + chunk <= m :\n",
    "        string = \"\".join(pattern[ptr:(ptr + chunk)].to_numpy())\n",
    "        if string in Map:\n",
    "            Map[string].append(ptr)\n",
    "        else:\n",
    "            Map[string]=[ptr]\n",
    "        ptr += 1\n",
    "    return Map"
   ]
  },
  {
   "cell_type": "code",
   "execution_count": 118,
   "metadata": {},
   "outputs": [],
   "source": [
    "def checkPattern(sequence, pattern, sequenceLoc, patternLoc, chunk):\n",
    "    #check front of chunk\n",
    "    for x in range(0,patternLoc):\n",
    "        if (pattern[x] != sequence[sequenceLoc + (x - patternLoc) + 10000000]) : return False\n",
    "    #check back of chunk\n",
    "    for x in range(patternLoc + chunk,len(pattern)):\n",
    "        if (pattern[x] != sequence[sequenceLoc + (x - patternLoc) + 10000000]) : return False\n",
    "    return True\n"
   ]
  },
  {
   "cell_type": "code",
   "execution_count": 120,
   "metadata": {
    "tags": []
   },
   "outputs": [
    {
     "output_type": "stream",
     "name": "stdout",
     "text": "--- Pre-Processing 1.1363089084625244 seconds ---\n--- Processing 0.049941062927246094 seconds ---\n{10045603, 10031430, 10030605, 10007151, 10001235, 10035415, 10047831}\n"
    }
   ],
   "source": [
    "def chunkingAlgo(sequence, pattern):\n",
    "    start_time = time.time()\n",
    "        #chunk const has to be less then half of the length of sequence to ensure pattern will definitely hit in the chucking of sequence.\n",
    "    chunk = int(len(pattern) / 2)\n",
    "    sequenceSet = buildMap(sequence,chunk) \n",
    "    patternSet = buildCombination(pattern,chunk)\n",
    "\n",
    "    print(\"--- Pre-Processing %s seconds ---\" % (time.time() - start_time))\n",
    "\n",
    "\n",
    "    start_time = time.time()  \n",
    "\n",
    "    indexlist = list()  \n",
    "    for keyPattern, valuePattern in patternSet.items():\n",
    "        if keyPattern in sequenceSet:\n",
    "            for sequenceElement in sequenceSet[keyPattern]:\n",
    "                for patternElement in valuePattern:\n",
    "                    if checkPattern(sequence,pattern,sequenceElement,patternElement,chunk):\n",
    "                        indexlist.append(sequenceElement - patternElement + 10000000) \n",
    "\n",
    "    print(\"--- Processing %s seconds ---\" % (time.time() - start_time))\n",
    "\n",
    "    return set(indexlist)\n",
    "\n",
    "print(chunkingAlgo(seqSeries, searchedSeries))\n"
   ]
  },
  {
   "source": [
    "#naive algo\n",
    "--- 1.0524308681488037 seconds ---\n",
    "{10045603, 10031430, 10030605, 10007151, 10001235, 10035415, 10047831}\n",
    "\n",
    "#chunking algo\n",
    "--- Pre-Processing 1.1363089084625244 seconds ---\n",
    "--- Processing 0.049941062927246094 seconds ---\n",
    "{10045603, 10031430, 10030605, 10007151, 10001235, 10035415, 10047831}\n"
   ],
   "cell_type": "code",
   "metadata": {},
   "execution_count": null,
   "outputs": []
  }
 ]
}