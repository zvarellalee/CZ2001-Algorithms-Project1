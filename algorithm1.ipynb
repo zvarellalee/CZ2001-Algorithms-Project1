{
 "metadata": {
  "language_info": {
   "codemirror_mode": {
    "name": "ipython",
    "version": 3
   },
   "file_extension": ".py",
   "mimetype": "text/x-python",
   "name": "python",
   "nbconvert_exporter": "python",
   "pygments_lexer": "ipython3",
   "version": "3.7.6-final"
  },
  "orig_nbformat": 2,
  "kernelspec": {
   "name": "python_defaultSpec_1599456072956",
   "display_name": "Python 3.7.6 64-bit ('base': conda)"
  }
 },
 "nbformat": 4,
 "nbformat_minor": 2,
 "cells": [
  {
   "cell_type": "code",
   "execution_count": 2,
   "metadata": {
    "tags": []
   },
   "outputs": [
    {
     "output_type": "stream",
     "name": "stdout",
     "text": "Seq('NNNNNNNNNNNNNNNNNNNNNNNNNNNNNNNNNNNNNNNNNNNNNNNNNNNNNN...NNN', SingleLetterAlphabet())\nLength of sequence is 120883175\n"
    }
   ],
   "source": [
    "from Bio import SeqIO\n",
    "import pandas as pd\n",
    "\n",
    "df = pd.DataFrame()\n",
    "\n",
    "for seq_record in SeqIO.parse(\"sequence.fasta\", \"fasta\"):\n",
    "    print(repr(seq_record.seq))\n",
    "    print(\"Length of sequence is\", len(seq_record))\n",
    "    seqSeries = pd.Series(list(str(seq_record.seq)))\n"
   ]
  },
  {
   "cell_type": "code",
   "execution_count": 3,
   "metadata": {
    "tags": []
   },
   "outputs": [
    {
     "output_type": "stream",
     "name": "stdout",
     "text": "Length of pattern is 3\n"
    }
   ],
   "source": [
    "\n",
    "searchedPattern = \"CTC\" \n",
    "searchedSeries = pd.Series([x for x in searchedPattern])\n",
    "print(\"Length of pattern is\", len(searchedSeries))"
   ]
  },
  {
   "cell_type": "code",
   "execution_count": 4,
   "metadata": {},
   "outputs": [
    {
     "output_type": "execute_result",
     "data": {
      "text/plain": "10000000    C\n10000001    T\n10000002    C\n10000003    T\n10000004    T\n           ..\n10000995    C\n10000996    T\n10000997    T\n10000998    C\n10000999    T\nLength: 1000, dtype: object"
     },
     "metadata": {},
     "execution_count": 4
    }
   ],
   "source": [
    "seqSeries = seqSeries[10000000:10001000]\n",
    "seqSeries"
   ]
  },
  {
   "cell_type": "code",
   "execution_count": 5,
   "metadata": {
    "tags": []
   },
   "outputs": [
    {
     "output_type": "stream",
     "name": "stdout",
     "text": "[10000000, 10000021, 10000253, 10000317, 10000378, 10000453, 10000473, 10000549, 10000561, 10000648, 10000685, 10000761, 10000817, 10000819, 10000825, 10000889, 10000929]\n"
    }
   ],
   "source": [
    "def nativePatternSearch(sequence, pattern):\n",
    "    #Simple linear Pattern Searching\n",
    "    indexList = list() # list for storing matched pattern starting index \n",
    "    patternLen = len(pattern)\n",
    "    for keyParent, valueParent in sequence.items(): # iter over every char in sequence (split key/value)\n",
    "        for keyChild, valueChild in pattern.items(): # iter over every char in searched pattern (split key/value)\n",
    "            try:\n",
    "                # check if following individual chars matches all chars in searched pattern break internal for loop if a single char does not match. \n",
    "                # if current index char and following char fulfill searched pattern append to indexlist\n",
    "                if sequence[keyParent + keyChild] != valueChild: break \n",
    "                elif (patternLen == (keyChild + 1)): indexList.append(keyParent) \n",
    "            except: break\n",
    "    return indexList\n",
    "\n",
    "print(nativePatternSearch(seqSeries, searchedSeries))"
   ]
  },
  {
   "cell_type": "code",
   "execution_count": 13,
   "metadata": {
    "tags": []
   },
   "outputs": [
    {
     "output_type": "stream",
     "name": "stdout",
     "text": "C 0\nT 1\n"
    },
    {
     "output_type": "execute_result",
     "data": {
      "text/plain": "3"
     },
     "metadata": {},
     "execution_count": 13
    }
   ],
   "source": [
    "\n",
    "    sequence = seqSeries\n",
    "    pattern = searchedSeries\n",
    "    patternLen = len(pattern)\n",
    "    sequenceLen = len(pattern)\n",
    "\n",
    "    preprocessingDic = dict()\n",
    "    for key, value in pattern.items():\n",
    "        preprocessingDic[value] = key \n",
    "    for key, value in preprocessingDic.items():\n",
    "        preprocessingDic[key] = patternLen - value - 1\n",
    "    preprocessingDic.setdefault(\"NAN\", patternLen)\n",
    "    \n",
    "\n",
    "\n",
    "\n"
   ]
  },
  {
   "cell_type": "code",
   "execution_count": 7,
   "metadata": {},
   "outputs": [
    {
     "output_type": "error",
     "ename": "SyntaxError",
     "evalue": "invalid syntax (<ipython-input-7-103ec3f1692b>, line 6)",
     "traceback": [
      "\u001b[0;36m  File \u001b[0;32m\"<ipython-input-7-103ec3f1692b>\"\u001b[0;36m, line \u001b[0;32m6\u001b[0m\n\u001b[0;31m    if (preprocessing.has_key())keyParent + preprocessing[sequence[KeyParent]]\u001b[0m\n\u001b[0m                                        ^\u001b[0m\n\u001b[0;31mSyntaxError\u001b[0m\u001b[0;31m:\u001b[0m invalid syntax\n"
     ]
    }
   ],
   "source": [
    "    indexlist = list()    \n",
    "    keyParent =  sequence.first() - patternLen - 1  #set KeyParent as the index value of first backward searcher \n",
    "    keyChild = patternLen - 1 + pattern.first()\n",
    "\n",
    "    valueParent = \"\"\n",
    "    while keyParent < sequenceLen + sequence.first():\n",
    "        valueParent = sequence[keyParent]\n",
    "        if valueParent != pattern[keyChild]: \n",
    "            keyParent += preprocessing[valueParent]"
   ]
  }
 ]
}