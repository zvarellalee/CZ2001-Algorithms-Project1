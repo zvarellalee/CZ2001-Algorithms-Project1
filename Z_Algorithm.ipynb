{
 "cells": [
  {
   "cell_type": "markdown",
   "metadata": {},
   "source": [
    "# Z Algorithm"
   ]
  },
  {
   "cell_type": "code",
   "execution_count": 1,
   "metadata": {},
   "outputs": [],
   "source": [
    "import time\n",
    "import pandas as pd\n",
    "from collections import defaultdict\n",
    "from Bio import SeqIO\n",
    "from Bio.SeqIO.FastaIO import SimpleFastaParser\n",
    "# use a defaultdict to avoid KeyError"
   ]
  },
  {
   "cell_type": "markdown",
   "metadata": {},
   "source": [
    "## Parameter Input\n"
   ]
  },
  {
   "cell_type": "code",
   "execution_count": 6,
   "metadata": {},
   "outputs": [],
   "source": [
    "file_name = \"bee.fna\"\n",
    "subset_size = 50000\n",
    "searched_pattern = \"CCTACAA\""
   ]
  },
  {
   "cell_type": "markdown",
   "metadata": {},
   "source": [
    "- file_name: name of the FASTA file located in the same directory\n",
    "- subset_size: size of subset of the FASTA file taken from 0 to subset_size\n",
    "- searched_pattern: string to be searched inside FASTA file"
   ]
  },
  {
   "cell_type": "code",
   "execution_count": 8,
   "metadata": {},
   "outputs": [],
   "source": [
    "def calZArr(myStr, patLen, Z, lookupDict):\n",
    "    strLen = len(myStr)\n",
    "    L, R = 0, 0\n",
    "    count = 0\n",
    "    for i in range(1,strLen):\n",
    "        if i > R:\n",
    "            # reset left and R, prefix should start from i\n",
    "            L, R = i, i\n",
    "            # compare S[0...] and S[i...]\n",
    "            # S[R-L] == S[0], increment R will traverse array until index R\n",
    "            while (R < strLen) and (myStr[R] == myStr[R-L]):\n",
    "                R += 1\n",
    "            Z[i] = R - L\n",
    "            # deduct 1 as incremented R to compare next (S[i], S[R-L]) but not equal\n",
    "            R -= 1\n",
    "        else:\n",
    "            k = i - L\n",
    "                                # S[i] == S[k]\n",
    "                                # Z[i] = min(Z[k], R - i +1)\n",
    "                                # compute {L, R}\n",
    "            if Z[k] < R - i + 1:\n",
    "                # [L, R] stays same\n",
    "                Z[i] = Z[k]\n",
    "            else:\n",
    "                # reset\n",
    "                L = i\n",
    "                while(R < strLen) and (myStr[R-L] == myStr[R]):\n",
    "                    R += 1\n",
    "                Z[i] = R - L\n",
    "                R -= 1\n",
    "        # save in dictionary, Key = Z-Value at the index, Value = index in sequence\n",
    "        lookupDict[Z[i]].append(i-patLen-1)\n",
    "    return lookupDict"
   ]
  },
  {
   "cell_type": "code",
   "execution_count": 9,
   "metadata": {},
   "outputs": [],
   "source": [
    "def ZAlgo(text, pattern):\n",
    "    # create string for finding Z array\n",
    "    concatStr = pattern + \"$\" + text\n",
    "    myLen = len(concatStr)\n",
    "    patLen = len(pattern)\n",
    "\n",
    "    # construct Z array\n",
    "    Z = [0] * myLen\n",
    "    lookupDict = defaultdict(list)\n",
    "    start_time = time.time()\n",
    "    zDict = calZArr(concatStr, patLen, Z, lookupDict)\n",
    "    print(\"--- Pre-Processing %s seconds ---\" % (time.time() - start_time))\n",
    "\n",
    "    start_time = time.time()\n",
    "    # retrieve from dictionary any potential matches\n",
    "    matches = zDict[patLen]\n",
    "    print(\"--- Processing %s seconds ---\" % (time.time() - start_time))\n",
    "    return matches"
   ]
  },
  {
   "cell_type": "code",
   "execution_count": 10,
   "metadata": {},
   "outputs": [
    {
     "name": "stdout",
     "output_type": "stream",
     "text": [
      "Total length of genome sequence:  50000\n"
     ]
    }
   ],
   "source": [
    "with open(file_name) as handle:\n",
    "    list1 = [seq for (name,seq) in SimpleFastaParser(handle)]\n",
    "stringSequence = \"\".join(list1)\n",
    "stringSequence = stringSequence[0:subset_size] # comment out to search whole FASTA file\n",
    "#seqSeries = pd.Series(list(stringSequence))\n",
    "print(\"Total length of genome sequence: \", len(stringSequence))"
   ]
  },
  {
   "cell_type": "code",
   "execution_count": 11,
   "metadata": {},
   "outputs": [
    {
     "name": "stdout",
     "output_type": "stream",
     "text": [
      "--- Pre-Processing 0.03390908241271973 seconds ---\n",
      "--- Processing 0.0 seconds ---\n",
      "[261, 510]\n"
     ]
    }
   ],
   "source": [
    "idxList = ZAlgo(stringSequence, searched_pattern)\n",
    "print(idxList) "
   ]
  },
  {
   "cell_type": "code",
   "execution_count": null,
   "metadata": {},
   "outputs": [],
   "source": []
  }
 ],
 "metadata": {
  "kernelspec": {
   "display_name": "Python 3",
   "language": "python",
   "name": "python3"
  },
  "language_info": {
   "codemirror_mode": {
    "name": "ipython",
    "version": 3
   },
   "file_extension": ".py",
   "mimetype": "text/x-python",
   "name": "python",
   "nbconvert_exporter": "python",
   "pygments_lexer": "ipython3",
   "version": "3.7.4"
  }
 },
 "nbformat": 4,
 "nbformat_minor": 2
}
