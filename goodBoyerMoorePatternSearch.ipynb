{
 "cells": [
  {
   "cell_type": "code",
   "execution_count": 64,
   "metadata": {},
   "outputs": [
    {
     "name": "stdout",
     "output_type": "stream",
     "text": [
      "Requirement already satisfied: biopython in c:\\users\\waich\\anaconda3\\lib\\site-packages (1.78)\n",
      "Requirement already satisfied: numpy in c:\\users\\waich\\anaconda3\\lib\\site-packages (from biopython) (1.16.5)\n",
      "Seq('ACTAACCCTGACTAACCCTGACTAACCCTGACTAACCCTGACTAACCCTGACTA...TAG')\n",
      "Length of sequence is 2329538\n"
     ]
    }
   ],
   "source": [
    "!pip install biopython\n",
    "\n",
    "\n",
    "from Bio import SeqIO\n",
    "import pandas as pd\n",
    "\n",
    "df = pd.DataFrame()\n",
    "\n",
    "for seq_record in SeqIO.parse(\"sequence.fasta\", \"fasta\"):\n",
    "    print(repr(seq_record.seq))\n",
    "    print(\"Length of sequence is\", len(seq_record))\n",
    "    seqSeries = pd.Series(list(str(seq_record.seq)))"
   ]
  },
  {
   "cell_type": "code",
   "execution_count": 71,
   "metadata": {},
   "outputs": [
    {
     "name": "stdout",
     "output_type": "stream",
     "text": [
      "Length of pattern is 7\n"
     ]
    }
   ],
   "source": [
    "searchedPattern = \"AACCTCC\" \n",
    "searchedSeries = pd.Series([x for x in searchedPattern])\n",
    "print(\"Length of pattern is\", len(searchedSeries))"
   ]
  },
  {
   "cell_type": "code",
   "execution_count": 76,
   "metadata": {},
   "outputs": [
    {
     "name": "stdout",
     "output_type": "stream",
     "text": [
      "Border Position:  [7, 7, 5, 6, 7, 6, 7, 8]\n",
      "Shift Table:  [7, 7, 7, 7, 7, 3, 1, 2]\n"
     ]
    }
   ],
   "source": [
    "    pattern = searchedSeries\n",
    "    text = seqSeries\n",
    "    str_idx = 0\n",
    "    patternLen = len(pattern) \n",
    "    n = len(text) \n",
    "    bpos = [0] * (patternLen + 1) \n",
    "    shift = [0] * (patternLen + 1) \n",
    "    \n",
    "def preprocessGoodSuffix(shift, bpos, pattern, patternLen): \n",
    "        i = patternLen \n",
    "        j = patternLen + 1\n",
    "        bpos[i] = j \n",
    "        while i > 0: \n",
    "            while j <= patternLen and pattern[i - 1] != pattern[j - 1]:    \n",
    "                if shift[j] == 0: \n",
    "                    shift[j] = j - i \n",
    "                j = bpos[j]          \n",
    "            i -= 1\n",
    "            j -= 1\n",
    "            bpos[i] = j \n",
    "def preprocess_case2(shift, bpos, pattern, patternLen): \n",
    "        j = bpos[0] \n",
    "        for i in range(patternLen + 1): \n",
    "            if shift[i] == 0: \n",
    "                shift[i] = j \n",
    "            if i == j: \n",
    "                j = bpos[j] \n",
    "preprocessGoodSuffix(shift, bpos, pattern, patternLen)\n",
    "preprocess_case2(shift, bpos, pattern, patternLen)\n",
    "\n",
    "print(\"Border Position: \",bpos)\n",
    "print(\"Shift Table: \", shift)"
   ]
  },
  {
   "cell_type": "code",
   "execution_count": 77,
   "metadata": {},
   "outputs": [
    {
     "name": "stdout",
     "output_type": "stream",
     "text": [
      "[442, 2148, 13005, 37202, 39232, 54299, 93080, 106291, 108536, 109994, 114154, 114193, 125980, 153662, 186306, 187905, 203432, 203579, 213702, 217798, 225695, 250143, 256658, 257043, 259901, 277439, 286256, 308096, 309386, 329606, 343090, 345819, 362830, 363787, 373583, 375134, 409561, 415117, 420209, 448462, 460095, 477550, 511181, 514726, 534026, 536758, 545747, 563224, 611539, 620880, 620919, 655182, 700370, 710220, 726953, 727767, 736495, 737519, 739155, 750932, 777430, 782056, 787376, 799932, 820855, 826168, 830197, 843745, 844389, 844972, 847128, 849021, 861481, 863357, 889247, 892798, 932700, 936210, 942786, 944696, 964285, 966990, 985269, 985980, 989515, 992485, 1004162, 1004925, 1008735, 1012850, 1023334, 1031541, 1041812, 1047960, 1073706, 1083252, 1097631, 1153124, 1154922, 1158066, 1161605, 1165325, 1185690, 1208204, 1217484, 1225824, 1241095, 1267025, 1288534, 1289548, 1293355, 1305530, 1305908, 1327389, 1353459, 1368195, 1370340, 1387018, 1393364, 1412688, 1419642, 1425239, 1459100, 1460917, 1478170, 1490210, 1496988, 1505745, 1508457, 1519025, 1524772, 1528454, 1532900, 1543803, 1554325, 1557812, 1645540, 1684553, 1707541, 1716367, 1752295, 1769326, 1780238, 1823333, 1832650, 1842533, 1853100, 1882182, 1888384, 1890963, 1899131, 1906269, 1908566, 1911878, 1916669, 1937377, 1944356, 1965776, 1983457, 1993695, 1996043, 2039906, 2040684, 2044847, 2059866, 2066191, 2067503, 2073296, 2075960, 2098395, 2100634, 2107359, 2109968, 2122310, 2123221, 2125307, 2131304, 2142838, 2157026, 2168864, 2172269, 2183147, 2183273, 2187333, 2190163, 2191484, 2192370, 2218596, 2228620, 2229960, 2238220, 2259618, 2261717, 2278763, 2288687, 2292134, 2304455, 2314733]\n"
     ]
    }
   ],
   "source": [
    "         \n",
    "\n",
    "def goodBoyerMoorePatternSearch(text, pattern):  \n",
    "    #index of entire string\n",
    "    str_idx = 0\n",
    "    n = len(text) \n",
    "    index_list=list()\n",
    "  \n",
    "    while str_idx <= n - patternLen: \n",
    "        #Substring index\n",
    "        sub_idx = patternLen - 1\n",
    "        while sub_idx >= 0 and pattern[sub_idx] == text[str_idx + sub_idx]: \n",
    "            sub_idx -= 1\n",
    "        if sub_idx < 0: #case where all of the sub_idx is matched\n",
    "            index_list.append(str_idx) \n",
    "            str_idx += shift[0] \n",
    "        else: \n",
    "            str_idx += shift[sub_idx + 1] \n",
    "    return(index_list)\n",
    "    \n",
    "\n",
    "print(goodBoyerMoorePatternSearch(seqSeries, searchedSeries))"
   ]
  },
  {
   "cell_type": "code",
   "execution_count": 75,
   "metadata": {},
   "outputs": [
    {
     "data": {
      "text/plain": [
       "442    A\n",
       "443    A\n",
       "444    C\n",
       "445    C\n",
       "446    T\n",
       "447    C\n",
       "dtype: object"
      ]
     },
     "execution_count": 75,
     "metadata": {},
     "output_type": "execute_result"
    }
   ],
   "source": [
    "seqSeries[442:448]\n"
   ]
  },
  {
   "cell_type": "code",
   "execution_count": null,
   "metadata": {},
   "outputs": [],
   "source": []
  }
 ],
 "metadata": {
  "kernelspec": {
   "display_name": "Python 3",
   "language": "python",
   "name": "python3"
  },
  "language_info": {
   "codemirror_mode": {
    "name": "ipython",
    "version": 3
   },
   "file_extension": ".py",
   "mimetype": "text/x-python",
   "name": "python",
   "nbconvert_exporter": "python",
   "pygments_lexer": "ipython3",
   "version": "3.7.4"
  }
 },
 "nbformat": 4,
 "nbformat_minor": 2
}
